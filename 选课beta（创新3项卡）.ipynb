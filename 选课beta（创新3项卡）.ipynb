{
 "cells": [
  {
   "cell_type": "code",
   "execution_count": 1,
   "id": "d6786f3d",
   "metadata": {},
   "outputs": [],
   "source": [
    "import selenium \n",
    "from selenium import webdriver\n",
    "from selenium.webdriver.common.action_chains import *\n",
    "from selenium.webdriver.common.action_chains import ActionChains\n",
    "from selenium.webdriver.common.keys import Keys\n",
    "import time"
   ]
  },
  {
   "cell_type": "code",
   "execution_count": 2,
   "id": "8d9ca78e",
   "metadata": {},
   "outputs": [],
   "source": [
    "driver = webdriver.Chrome()"
   ]
  },
  {
   "cell_type": "code",
   "execution_count": 3,
   "id": "6f248131",
   "metadata": {},
   "outputs": [
    {
     "ename": "WebDriverException",
     "evalue": "Message: chrome not reachable\n  (Session info: chrome=96.0.4664.110)\nStacktrace:\nBacktrace:\n\tOrdinal0 [0x002F3AB3+2505395]\n\tOrdinal0 [0x0028AE41+2076225]\n\tOrdinal0 [0x00192360+1057632]\n\tOrdinal0 [0x00187484+1012868]\n\tOrdinal0 [0x00187C86+1014918]\n\tOrdinal0 [0x00189355+1020757]\n\tOrdinal0 [0x00183463+996451]\n\tOrdinal0 [0x001936B0+1062576]\n\tOrdinal0 [0x001E4902+1394946]\n\tOrdinal0 [0x001D58BB+1333435]\n\tOrdinal0 [0x001B23E4+1188836]\n\tOrdinal0 [0x001B323F+1192511]\n\tGetHandleVerifier [0x0047CB36+1554566]\n\tGetHandleVerifier [0x00524A0C+2242396]\n\tGetHandleVerifier [0x00380E0B+523099]\n\tGetHandleVerifier [0x0037FEB0+519168]\n\tOrdinal0 [0x002902FD+2097917]\n\tOrdinal0 [0x00294388+2114440]\n\tOrdinal0 [0x002944C2+2114754]\n\tOrdinal0 [0x0029E041+2154561]\n\tBaseThreadInitThunk [0x76C3FA29+25]\n\tRtlGetAppContainerNamedObjectPath [0x77337A9E+286]\n\tRtlGetAppContainerNamedObjectPath [0x77337A6E+238]\n\t(No symbol) [0x00000000]\n",
     "output_type": "error",
     "traceback": [
      "\u001b[1;31m---------------------------------------------------------------------------\u001b[0m",
      "\u001b[1;31mWebDriverException\u001b[0m                        Traceback (most recent call last)",
      "\u001b[1;32m~\\AppData\\Local\\Temp/ipykernel_19812/1243324963.py\u001b[0m in \u001b[0;36m<module>\u001b[1;34m\u001b[0m\n\u001b[1;32m----> 1\u001b[1;33m \u001b[0mdriver\u001b[0m\u001b[1;33m.\u001b[0m\u001b[0mget\u001b[0m\u001b[1;33m(\u001b[0m\u001b[1;34m\"http://210.28.81.11/\"\u001b[0m\u001b[1;33m)\u001b[0m\u001b[1;33m\u001b[0m\u001b[1;33m\u001b[0m\u001b[0m\n\u001b[0m",
      "\u001b[1;32mc:\\users\\华灏远\\appdata\\local\\programs\\python\\python39\\lib\\site-packages\\selenium\\webdriver\\remote\\webdriver.py\u001b[0m in \u001b[0;36mget\u001b[1;34m(self, url)\u001b[0m\n\u001b[0;32m    428\u001b[0m         \u001b[0mLoads\u001b[0m \u001b[0ma\u001b[0m \u001b[0mweb\u001b[0m \u001b[0mpage\u001b[0m \u001b[1;32min\u001b[0m \u001b[0mthe\u001b[0m \u001b[0mcurrent\u001b[0m \u001b[0mbrowser\u001b[0m \u001b[0msession\u001b[0m\u001b[1;33m.\u001b[0m\u001b[1;33m\u001b[0m\u001b[1;33m\u001b[0m\u001b[0m\n\u001b[0;32m    429\u001b[0m         \"\"\"\n\u001b[1;32m--> 430\u001b[1;33m         \u001b[0mself\u001b[0m\u001b[1;33m.\u001b[0m\u001b[0mexecute\u001b[0m\u001b[1;33m(\u001b[0m\u001b[0mCommand\u001b[0m\u001b[1;33m.\u001b[0m\u001b[0mGET\u001b[0m\u001b[1;33m,\u001b[0m \u001b[1;33m{\u001b[0m\u001b[1;34m'url'\u001b[0m\u001b[1;33m:\u001b[0m \u001b[0murl\u001b[0m\u001b[1;33m}\u001b[0m\u001b[1;33m)\u001b[0m\u001b[1;33m\u001b[0m\u001b[1;33m\u001b[0m\u001b[0m\n\u001b[0m\u001b[0;32m    431\u001b[0m \u001b[1;33m\u001b[0m\u001b[0m\n\u001b[0;32m    432\u001b[0m     \u001b[1;33m@\u001b[0m\u001b[0mproperty\u001b[0m\u001b[1;33m\u001b[0m\u001b[1;33m\u001b[0m\u001b[0m\n",
      "\u001b[1;32mc:\\users\\华灏远\\appdata\\local\\programs\\python\\python39\\lib\\site-packages\\selenium\\webdriver\\remote\\webdriver.py\u001b[0m in \u001b[0;36mexecute\u001b[1;34m(self, driver_command, params)\u001b[0m\n\u001b[0;32m    416\u001b[0m         \u001b[0mresponse\u001b[0m \u001b[1;33m=\u001b[0m \u001b[0mself\u001b[0m\u001b[1;33m.\u001b[0m\u001b[0mcommand_executor\u001b[0m\u001b[1;33m.\u001b[0m\u001b[0mexecute\u001b[0m\u001b[1;33m(\u001b[0m\u001b[0mdriver_command\u001b[0m\u001b[1;33m,\u001b[0m \u001b[0mparams\u001b[0m\u001b[1;33m)\u001b[0m\u001b[1;33m\u001b[0m\u001b[1;33m\u001b[0m\u001b[0m\n\u001b[0;32m    417\u001b[0m         \u001b[1;32mif\u001b[0m \u001b[0mresponse\u001b[0m\u001b[1;33m:\u001b[0m\u001b[1;33m\u001b[0m\u001b[1;33m\u001b[0m\u001b[0m\n\u001b[1;32m--> 418\u001b[1;33m             \u001b[0mself\u001b[0m\u001b[1;33m.\u001b[0m\u001b[0merror_handler\u001b[0m\u001b[1;33m.\u001b[0m\u001b[0mcheck_response\u001b[0m\u001b[1;33m(\u001b[0m\u001b[0mresponse\u001b[0m\u001b[1;33m)\u001b[0m\u001b[1;33m\u001b[0m\u001b[1;33m\u001b[0m\u001b[0m\n\u001b[0m\u001b[0;32m    419\u001b[0m             response['value'] = self._unwrap_value(\n\u001b[0;32m    420\u001b[0m                 response.get('value', None))\n",
      "\u001b[1;32mc:\\users\\华灏远\\appdata\\local\\programs\\python\\python39\\lib\\site-packages\\selenium\\webdriver\\remote\\errorhandler.py\u001b[0m in \u001b[0;36mcheck_response\u001b[1;34m(self, response)\u001b[0m\n\u001b[0;32m    241\u001b[0m                 \u001b[0malert_text\u001b[0m \u001b[1;33m=\u001b[0m \u001b[0mvalue\u001b[0m\u001b[1;33m[\u001b[0m\u001b[1;34m'alert'\u001b[0m\u001b[1;33m]\u001b[0m\u001b[1;33m.\u001b[0m\u001b[0mget\u001b[0m\u001b[1;33m(\u001b[0m\u001b[1;34m'text'\u001b[0m\u001b[1;33m)\u001b[0m\u001b[1;33m\u001b[0m\u001b[1;33m\u001b[0m\u001b[0m\n\u001b[0;32m    242\u001b[0m             \u001b[1;32mraise\u001b[0m \u001b[0mexception_class\u001b[0m\u001b[1;33m(\u001b[0m\u001b[0mmessage\u001b[0m\u001b[1;33m,\u001b[0m \u001b[0mscreen\u001b[0m\u001b[1;33m,\u001b[0m \u001b[0mstacktrace\u001b[0m\u001b[1;33m,\u001b[0m \u001b[0malert_text\u001b[0m\u001b[1;33m)\u001b[0m  \u001b[1;31m# type: ignore[call-arg]  # mypy is not smart enough here\u001b[0m\u001b[1;33m\u001b[0m\u001b[1;33m\u001b[0m\u001b[0m\n\u001b[1;32m--> 243\u001b[1;33m         \u001b[1;32mraise\u001b[0m \u001b[0mexception_class\u001b[0m\u001b[1;33m(\u001b[0m\u001b[0mmessage\u001b[0m\u001b[1;33m,\u001b[0m \u001b[0mscreen\u001b[0m\u001b[1;33m,\u001b[0m \u001b[0mstacktrace\u001b[0m\u001b[1;33m)\u001b[0m\u001b[1;33m\u001b[0m\u001b[1;33m\u001b[0m\u001b[0m\n\u001b[0m\u001b[0;32m    244\u001b[0m \u001b[1;33m\u001b[0m\u001b[0m\n\u001b[0;32m    245\u001b[0m     \u001b[1;32mdef\u001b[0m \u001b[0m_value_or_default\u001b[0m\u001b[1;33m(\u001b[0m\u001b[0mself\u001b[0m\u001b[1;33m,\u001b[0m \u001b[0mobj\u001b[0m\u001b[1;33m:\u001b[0m \u001b[0mMapping\u001b[0m\u001b[1;33m[\u001b[0m\u001b[0m_KT\u001b[0m\u001b[1;33m,\u001b[0m \u001b[0m_VT\u001b[0m\u001b[1;33m]\u001b[0m\u001b[1;33m,\u001b[0m \u001b[0mkey\u001b[0m\u001b[1;33m:\u001b[0m \u001b[0m_KT\u001b[0m\u001b[1;33m,\u001b[0m \u001b[0mdefault\u001b[0m\u001b[1;33m:\u001b[0m \u001b[0m_VT\u001b[0m\u001b[1;33m)\u001b[0m \u001b[1;33m->\u001b[0m \u001b[0m_VT\u001b[0m\u001b[1;33m:\u001b[0m\u001b[1;33m\u001b[0m\u001b[1;33m\u001b[0m\u001b[0m\n",
      "\u001b[1;31mWebDriverException\u001b[0m: Message: chrome not reachable\n  (Session info: chrome=96.0.4664.110)\nStacktrace:\nBacktrace:\n\tOrdinal0 [0x002F3AB3+2505395]\n\tOrdinal0 [0x0028AE41+2076225]\n\tOrdinal0 [0x00192360+1057632]\n\tOrdinal0 [0x00187484+1012868]\n\tOrdinal0 [0x00187C86+1014918]\n\tOrdinal0 [0x00189355+1020757]\n\tOrdinal0 [0x00183463+996451]\n\tOrdinal0 [0x001936B0+1062576]\n\tOrdinal0 [0x001E4902+1394946]\n\tOrdinal0 [0x001D58BB+1333435]\n\tOrdinal0 [0x001B23E4+1188836]\n\tOrdinal0 [0x001B323F+1192511]\n\tGetHandleVerifier [0x0047CB36+1554566]\n\tGetHandleVerifier [0x00524A0C+2242396]\n\tGetHandleVerifier [0x00380E0B+523099]\n\tGetHandleVerifier [0x0037FEB0+519168]\n\tOrdinal0 [0x002902FD+2097917]\n\tOrdinal0 [0x00294388+2114440]\n\tOrdinal0 [0x002944C2+2114754]\n\tOrdinal0 [0x0029E041+2154561]\n\tBaseThreadInitThunk [0x76C3FA29+25]\n\tRtlGetAppContainerNamedObjectPath [0x77337A9E+286]\n\tRtlGetAppContainerNamedObjectPath [0x77337A6E+238]\n\t(No symbol) [0x00000000]\n"
     ]
    }
   ],
   "source": [
    "driver.get(\"http://210.28.81.11/\")"
   ]
  },
  {
   "cell_type": "code",
   "execution_count": 16,
   "id": "d820e6f7",
   "metadata": {},
   "outputs": [
    {
     "name": "stdout",
     "output_type": "stream",
     "text": [
      "nnh6\n"
     ]
    }
   ],
   "source": [
    "verificationcode=input()\n",
    "Username='2120214088'\n",
    "password='lkLK770922'"
   ]
  },
  {
   "cell_type": "code",
   "execution_count": 17,
   "id": "933786f1",
   "metadata": {
    "scrolled": true
   },
   "outputs": [
    {
     "name": "stderr",
     "output_type": "stream",
     "text": [
      "C:\\Users\\华灏远\\AppData\\Local\\Temp/ipykernel_20888/165039395.py:1: DeprecationWarning: find_element_by_* commands are deprecated. Please use find_element() instead\n",
      "  driver.find_element_by_xpath('//*[@id=\"txtSecretCode\"]').send_keys(verificationcode)\n"
     ]
    }
   ],
   "source": [
    "driver.find_element_by_xpath('//*[@id=\"txtSecretCode\"]').send_keys(verificationcode)"
   ]
  },
  {
   "cell_type": "code",
   "execution_count": 18,
   "id": "37199a2f",
   "metadata": {},
   "outputs": [
    {
     "name": "stderr",
     "output_type": "stream",
     "text": [
      "C:\\Users\\华灏远\\AppData\\Local\\Temp/ipykernel_20888/3602047932.py:1: DeprecationWarning: find_element_by_* commands are deprecated. Please use find_element() instead\n",
      "  driver.find_element_by_xpath('//*[@id=\"txtUserName\"]').send_keys(Username)\n"
     ]
    }
   ],
   "source": [
    "driver.find_element_by_xpath('//*[@id=\"txtUserName\"]').send_keys(Username)"
   ]
  },
  {
   "cell_type": "code",
   "execution_count": 19,
   "id": "13c1d1f4",
   "metadata": {},
   "outputs": [
    {
     "name": "stderr",
     "output_type": "stream",
     "text": [
      "C:\\Users\\华灏远\\AppData\\Local\\Temp/ipykernel_20888/1123956125.py:1: DeprecationWarning: find_element_by_* commands are deprecated. Please use find_element() instead\n",
      "  driver.find_element_by_xpath('//*[@id=\"TextBox2\"]').send_keys(password)\n"
     ]
    }
   ],
   "source": [
    "driver.find_element_by_xpath('//*[@id=\"TextBox2\"]').send_keys(password)"
   ]
  },
  {
   "cell_type": "code",
   "execution_count": 20,
   "id": "d3328ec5",
   "metadata": {},
   "outputs": [
    {
     "name": "stderr",
     "output_type": "stream",
     "text": [
      "C:\\Users\\华灏远\\AppData\\Local\\Temp/ipykernel_20888/936220466.py:1: DeprecationWarning: find_element_by_* commands are deprecated. Please use find_element() instead\n",
      "  driver.find_element_by_xpath('//*[@id=\"Button1\"]').click()#登录按钮\n"
     ]
    }
   ],
   "source": [
    "driver.find_element_by_xpath('//*[@id=\"Button1\"]').click()#登录按钮"
   ]
  },
  {
   "cell_type": "code",
   "execution_count": 21,
   "id": "f42eabc3",
   "metadata": {
    "scrolled": true
   },
   "outputs": [],
   "source": [
    "#driver.find_element_by_xpath('//*[@id=\"headDiv\"]/ul/li[2]/a/span').click()"
   ]
  },
  {
   "cell_type": "code",
   "execution_count": 22,
   "id": "dc460de6",
   "metadata": {},
   "outputs": [],
   "source": [
    "#driver.switch_to.frame"
   ]
  },
  {
   "cell_type": "code",
   "execution_count": 23,
   "id": "41dddd22",
   "metadata": {
    "scrolled": true
   },
   "outputs": [
    {
     "name": "stderr",
     "output_type": "stream",
     "text": [
      "C:\\Users\\华灏远\\AppData\\Local\\Temp/ipykernel_20888/1255500059.py:1: DeprecationWarning: find_element_by_* commands are deprecated. Please use find_element() instead\n",
      "  move = driver.find_element_by_xpath('//*[@id=\"headDiv\"]/ul/li[2]/a/span')\n"
     ]
    }
   ],
   "source": [
    "move = driver.find_element_by_xpath('//*[@id=\"headDiv\"]/ul/li[2]/a/span')\n",
    "ActionChains(driver).move_to_element(move).perform()#悬浮鼠标，拉出选项卡"
   ]
  },
  {
   "cell_type": "code",
   "execution_count": 24,
   "id": "44e8375a",
   "metadata": {},
   "outputs": [
    {
     "name": "stderr",
     "output_type": "stream",
     "text": [
      "C:\\Users\\华灏远\\AppData\\Local\\Temp/ipykernel_20888/103444748.py:1: DeprecationWarning: find_element_by_* commands are deprecated. Please use find_element() instead\n",
      "  driver.find_element_by_xpath('//*[@id=\"headDiv\"]/ul/li[2]/ul/li[1]/a').click()#通识\n"
     ]
    }
   ],
   "source": [
    "driver.find_element_by_xpath('//*[@id=\"headDiv\"]/ul/li[2]/ul/li[1]/a').click()#通识"
   ]
  },
  {
   "cell_type": "code",
   "execution_count": 25,
   "id": "ae84d31d",
   "metadata": {},
   "outputs": [],
   "source": [
    "#driver.find_element_by_xpath('//*[@id=\"headDiv\"]/ul/li[2]/ul/li[2]/a').click()#专业任意专限"
   ]
  },
  {
   "cell_type": "code",
   "execution_count": 26,
   "id": "b9264dcf",
   "metadata": {},
   "outputs": [],
   "source": [
    "#driver.find_element_by_xpath('//*[@id=\"headDiv\"]/ul/li[2]/ul/li[3]/a').click()#创新、外语"
   ]
  },
  {
   "cell_type": "code",
   "execution_count": 27,
   "id": "366bbeb5",
   "metadata": {
    "scrolled": true
   },
   "outputs": [
    {
     "name": "stderr",
     "output_type": "stream",
     "text": [
      "C:\\Users\\华灏远\\AppData\\Local\\Temp/ipykernel_20888/2760592110.py:1: DeprecationWarning: find_element_by_* commands are deprecated. Please use find_element() instead\n",
      "  driver.switch_to.frame(driver.find_element_by_xpath('//*[@id=\"iframeautoheight\"]')) #进入iframe中,很重要，否则会找不到提交\n"
     ]
    }
   ],
   "source": [
    "driver.switch_to.frame(driver.find_element_by_xpath('//*[@id=\"iframeautoheight\"]')) #进入iframe中,很重要，否则会找不到提交"
   ]
  },
  {
   "cell_type": "code",
   "execution_count": 28,
   "id": "28e34183",
   "metadata": {},
   "outputs": [],
   "source": [
    "#import warnings"
   ]
  },
  {
   "cell_type": "code",
   "execution_count": 29,
   "id": "c77afae3",
   "metadata": {},
   "outputs": [],
   "source": [
    "#warnings.filterwarnings(\"ignore\")"
   ]
  },
  {
   "cell_type": "code",
   "execution_count": 30,
   "id": "f14eebd7",
   "metadata": {},
   "outputs": [],
   "source": [
    "def alert_is_present(driver):\n",
    "    try:\n",
    "        alert = driver.switch_to.alert\n",
    "        alert.text\n",
    "        return alert\n",
    "    except:\n",
    "        return False"
   ]
  },
  {
   "cell_type": "code",
   "execution_count": 31,
   "id": "0f3005e3",
   "metadata": {},
   "outputs": [],
   "source": [
    "#driver.find_element_by_xpath('//*[@id=\"dpkcmcGrid_btnNextPage\"]').click()#下一页"
   ]
  },
  {
   "cell_type": "code",
   "execution_count": 32,
   "id": "59a27bac",
   "metadata": {},
   "outputs": [],
   "source": [
    "#driver.find_element_by_xpath('//*[@id=\"kcmcGrid__ctl3_xk\"]').click()"
   ]
  },
  {
   "cell_type": "code",
   "execution_count": 33,
   "id": "464355a1",
   "metadata": {},
   "outputs": [],
   "source": [
    "#element = driver.find_element_by_xpath('//*[@id=\"kcmcGrid__ctl3_xk\"]')\n",
    "#driver.execute_script(\"arguments[0].click();\", element)"
   ]
  },
  {
   "cell_type": "code",
   "execution_count": 34,
   "id": "425cdde4",
   "metadata": {},
   "outputs": [
    {
     "name": "stderr",
     "output_type": "stream",
     "text": [
      "C:\\Users\\华灏远\\AppData\\Local\\Temp/ipykernel_20888/3140307424.py:2: DeprecationWarning: find_element_by_* commands are deprecated. Please use find_element() instead\n",
      "  element = driver.find_element_by_xpath('//*[@id=\"kcmcGrid__ctl2_xk\"]')\n"
     ]
    },
    {
     "ename": "NoSuchElementException",
     "evalue": "Message: no such element: Unable to locate element: {\"method\":\"xpath\",\"selector\":\"//*[@id=\"kcmcGrid__ctl2_xk\"]\"}\n  (Session info: chrome=96.0.4664.110)\nStacktrace:\nBacktrace:\n\tOrdinal0 [0x002F3AB3+2505395]\n\tOrdinal0 [0x0028AE41+2076225]\n\tOrdinal0 [0x00192498+1057944]\n\tOrdinal0 [0x001BCB74+1231732]\n\tOrdinal0 [0x001E6D92+1404306]\n\tOrdinal0 [0x001D5A2A+1333802]\n\tOrdinal0 [0x001E5168+1397096]\n\tOrdinal0 [0x001D58BB+1333435]\n\tOrdinal0 [0x001B23E4+1188836]\n\tOrdinal0 [0x001B323F+1192511]\n\tGetHandleVerifier [0x0047CB36+1554566]\n\tGetHandleVerifier [0x00524A0C+2242396]\n\tGetHandleVerifier [0x00380E0B+523099]\n\tGetHandleVerifier [0x0037FEB0+519168]\n\tOrdinal0 [0x002902FD+2097917]\n\tOrdinal0 [0x00294388+2114440]\n\tOrdinal0 [0x002944C2+2114754]\n\tOrdinal0 [0x0029E041+2154561]\n\tBaseThreadInitThunk [0x76C3FA29+25]\n\tRtlGetAppContainerNamedObjectPath [0x77337A9E+286]\n\tRtlGetAppContainerNamedObjectPath [0x77337A6E+238]\n\t(No symbol) [0x00000000]\n",
     "output_type": "error",
     "traceback": [
      "\u001b[1;31m---------------------------------------------------------------------------\u001b[0m",
      "\u001b[1;31mNoSuchElementException\u001b[0m                    Traceback (most recent call last)",
      "\u001b[1;32m~\\AppData\\Local\\Temp/ipykernel_20888/3140307424.py\u001b[0m in \u001b[0;36m<module>\u001b[1;34m\u001b[0m\n\u001b[0;32m      1\u001b[0m \u001b[1;32mwhile\u001b[0m \u001b[1;32mTrue\u001b[0m\u001b[1;33m:\u001b[0m\u001b[1;33m\u001b[0m\u001b[1;33m\u001b[0m\u001b[0m\n\u001b[1;32m----> 2\u001b[1;33m     \u001b[0melement\u001b[0m \u001b[1;33m=\u001b[0m \u001b[0mdriver\u001b[0m\u001b[1;33m.\u001b[0m\u001b[0mfind_element_by_xpath\u001b[0m\u001b[1;33m(\u001b[0m\u001b[1;34m'//*[@id=\"kcmcGrid__ctl2_xk\"]'\u001b[0m\u001b[1;33m)\u001b[0m\u001b[1;33m\u001b[0m\u001b[1;33m\u001b[0m\u001b[0m\n\u001b[0m\u001b[0;32m      3\u001b[0m     \u001b[0mdriver\u001b[0m\u001b[1;33m.\u001b[0m\u001b[0mexecute_script\u001b[0m\u001b[1;33m(\u001b[0m\u001b[1;34m\"arguments[0].click();\"\u001b[0m\u001b[1;33m,\u001b[0m \u001b[0melement\u001b[0m\u001b[1;33m)\u001b[0m\u001b[1;33m\u001b[0m\u001b[1;33m\u001b[0m\u001b[0m\n\u001b[0;32m      4\u001b[0m     \u001b[0mdriver\u001b[0m\u001b[1;33m.\u001b[0m\u001b[0mfind_element_by_xpath\u001b[0m\u001b[1;33m(\u001b[0m\u001b[1;34m'//*[@id=\"Button1\"]'\u001b[0m\u001b[1;33m)\u001b[0m\u001b[1;33m.\u001b[0m\u001b[0mclick\u001b[0m\u001b[1;33m(\u001b[0m\u001b[1;33m)\u001b[0m\u001b[1;31m#提交\u001b[0m\u001b[1;33m\u001b[0m\u001b[1;33m\u001b[0m\u001b[0m\n\u001b[0;32m      5\u001b[0m     \u001b[1;31m#alert = driver.switch_to.alert\u001b[0m\u001b[1;33m\u001b[0m\u001b[1;33m\u001b[0m\u001b[1;33m\u001b[0m\u001b[0m\n",
      "\u001b[1;32mc:\\users\\华灏远\\appdata\\local\\programs\\python\\python39\\lib\\site-packages\\selenium\\webdriver\\remote\\webdriver.py\u001b[0m in \u001b[0;36mfind_element_by_xpath\u001b[1;34m(self, xpath)\u001b[0m\n\u001b[0;32m    512\u001b[0m             \u001b[0mstacklevel\u001b[0m\u001b[1;33m=\u001b[0m\u001b[1;36m2\u001b[0m\u001b[1;33m,\u001b[0m\u001b[1;33m\u001b[0m\u001b[1;33m\u001b[0m\u001b[0m\n\u001b[0;32m    513\u001b[0m         )\n\u001b[1;32m--> 514\u001b[1;33m         \u001b[1;32mreturn\u001b[0m \u001b[0mself\u001b[0m\u001b[1;33m.\u001b[0m\u001b[0mfind_element\u001b[0m\u001b[1;33m(\u001b[0m\u001b[0mby\u001b[0m\u001b[1;33m=\u001b[0m\u001b[0mBy\u001b[0m\u001b[1;33m.\u001b[0m\u001b[0mXPATH\u001b[0m\u001b[1;33m,\u001b[0m \u001b[0mvalue\u001b[0m\u001b[1;33m=\u001b[0m\u001b[0mxpath\u001b[0m\u001b[1;33m)\u001b[0m\u001b[1;33m\u001b[0m\u001b[1;33m\u001b[0m\u001b[0m\n\u001b[0m\u001b[0;32m    515\u001b[0m \u001b[1;33m\u001b[0m\u001b[0m\n\u001b[0;32m    516\u001b[0m     \u001b[1;32mdef\u001b[0m \u001b[0mfind_elements_by_xpath\u001b[0m\u001b[1;33m(\u001b[0m\u001b[0mself\u001b[0m\u001b[1;33m,\u001b[0m \u001b[0mxpath\u001b[0m\u001b[1;33m)\u001b[0m \u001b[1;33m->\u001b[0m \u001b[0mWebElement\u001b[0m\u001b[1;33m:\u001b[0m\u001b[1;33m\u001b[0m\u001b[1;33m\u001b[0m\u001b[0m\n",
      "\u001b[1;32mc:\\users\\华灏远\\appdata\\local\\programs\\python\\python39\\lib\\site-packages\\selenium\\webdriver\\remote\\webdriver.py\u001b[0m in \u001b[0;36mfind_element\u001b[1;34m(self, by, value)\u001b[0m\n\u001b[0;32m   1236\u001b[0m             \u001b[0mvalue\u001b[0m \u001b[1;33m=\u001b[0m \u001b[1;34m'[name=\"%s\"]'\u001b[0m \u001b[1;33m%\u001b[0m \u001b[0mvalue\u001b[0m\u001b[1;33m\u001b[0m\u001b[1;33m\u001b[0m\u001b[0m\n\u001b[0;32m   1237\u001b[0m \u001b[1;33m\u001b[0m\u001b[0m\n\u001b[1;32m-> 1238\u001b[1;33m         return self.execute(Command.FIND_ELEMENT, {\n\u001b[0m\u001b[0;32m   1239\u001b[0m             \u001b[1;34m'using'\u001b[0m\u001b[1;33m:\u001b[0m \u001b[0mby\u001b[0m\u001b[1;33m,\u001b[0m\u001b[1;33m\u001b[0m\u001b[1;33m\u001b[0m\u001b[0m\n\u001b[0;32m   1240\u001b[0m             'value': value})['value']\n",
      "\u001b[1;32mc:\\users\\华灏远\\appdata\\local\\programs\\python\\python39\\lib\\site-packages\\selenium\\webdriver\\remote\\webdriver.py\u001b[0m in \u001b[0;36mexecute\u001b[1;34m(self, driver_command, params)\u001b[0m\n\u001b[0;32m    416\u001b[0m         \u001b[0mresponse\u001b[0m \u001b[1;33m=\u001b[0m \u001b[0mself\u001b[0m\u001b[1;33m.\u001b[0m\u001b[0mcommand_executor\u001b[0m\u001b[1;33m.\u001b[0m\u001b[0mexecute\u001b[0m\u001b[1;33m(\u001b[0m\u001b[0mdriver_command\u001b[0m\u001b[1;33m,\u001b[0m \u001b[0mparams\u001b[0m\u001b[1;33m)\u001b[0m\u001b[1;33m\u001b[0m\u001b[1;33m\u001b[0m\u001b[0m\n\u001b[0;32m    417\u001b[0m         \u001b[1;32mif\u001b[0m \u001b[0mresponse\u001b[0m\u001b[1;33m:\u001b[0m\u001b[1;33m\u001b[0m\u001b[1;33m\u001b[0m\u001b[0m\n\u001b[1;32m--> 418\u001b[1;33m             \u001b[0mself\u001b[0m\u001b[1;33m.\u001b[0m\u001b[0merror_handler\u001b[0m\u001b[1;33m.\u001b[0m\u001b[0mcheck_response\u001b[0m\u001b[1;33m(\u001b[0m\u001b[0mresponse\u001b[0m\u001b[1;33m)\u001b[0m\u001b[1;33m\u001b[0m\u001b[1;33m\u001b[0m\u001b[0m\n\u001b[0m\u001b[0;32m    419\u001b[0m             response['value'] = self._unwrap_value(\n\u001b[0;32m    420\u001b[0m                 response.get('value', None))\n",
      "\u001b[1;32mc:\\users\\华灏远\\appdata\\local\\programs\\python\\python39\\lib\\site-packages\\selenium\\webdriver\\remote\\errorhandler.py\u001b[0m in \u001b[0;36mcheck_response\u001b[1;34m(self, response)\u001b[0m\n\u001b[0;32m    241\u001b[0m                 \u001b[0malert_text\u001b[0m \u001b[1;33m=\u001b[0m \u001b[0mvalue\u001b[0m\u001b[1;33m[\u001b[0m\u001b[1;34m'alert'\u001b[0m\u001b[1;33m]\u001b[0m\u001b[1;33m.\u001b[0m\u001b[0mget\u001b[0m\u001b[1;33m(\u001b[0m\u001b[1;34m'text'\u001b[0m\u001b[1;33m)\u001b[0m\u001b[1;33m\u001b[0m\u001b[1;33m\u001b[0m\u001b[0m\n\u001b[0;32m    242\u001b[0m             \u001b[1;32mraise\u001b[0m \u001b[0mexception_class\u001b[0m\u001b[1;33m(\u001b[0m\u001b[0mmessage\u001b[0m\u001b[1;33m,\u001b[0m \u001b[0mscreen\u001b[0m\u001b[1;33m,\u001b[0m \u001b[0mstacktrace\u001b[0m\u001b[1;33m,\u001b[0m \u001b[0malert_text\u001b[0m\u001b[1;33m)\u001b[0m  \u001b[1;31m# type: ignore[call-arg]  # mypy is not smart enough here\u001b[0m\u001b[1;33m\u001b[0m\u001b[1;33m\u001b[0m\u001b[0m\n\u001b[1;32m--> 243\u001b[1;33m         \u001b[1;32mraise\u001b[0m \u001b[0mexception_class\u001b[0m\u001b[1;33m(\u001b[0m\u001b[0mmessage\u001b[0m\u001b[1;33m,\u001b[0m \u001b[0mscreen\u001b[0m\u001b[1;33m,\u001b[0m \u001b[0mstacktrace\u001b[0m\u001b[1;33m)\u001b[0m\u001b[1;33m\u001b[0m\u001b[1;33m\u001b[0m\u001b[0m\n\u001b[0m\u001b[0;32m    244\u001b[0m \u001b[1;33m\u001b[0m\u001b[0m\n\u001b[0;32m    245\u001b[0m     \u001b[1;32mdef\u001b[0m \u001b[0m_value_or_default\u001b[0m\u001b[1;33m(\u001b[0m\u001b[0mself\u001b[0m\u001b[1;33m,\u001b[0m \u001b[0mobj\u001b[0m\u001b[1;33m:\u001b[0m \u001b[0mMapping\u001b[0m\u001b[1;33m[\u001b[0m\u001b[0m_KT\u001b[0m\u001b[1;33m,\u001b[0m \u001b[0m_VT\u001b[0m\u001b[1;33m]\u001b[0m\u001b[1;33m,\u001b[0m \u001b[0mkey\u001b[0m\u001b[1;33m:\u001b[0m \u001b[0m_KT\u001b[0m\u001b[1;33m,\u001b[0m \u001b[0mdefault\u001b[0m\u001b[1;33m:\u001b[0m \u001b[0m_VT\u001b[0m\u001b[1;33m)\u001b[0m \u001b[1;33m->\u001b[0m \u001b[0m_VT\u001b[0m\u001b[1;33m:\u001b[0m\u001b[1;33m\u001b[0m\u001b[1;33m\u001b[0m\u001b[0m\n",
      "\u001b[1;31mNoSuchElementException\u001b[0m: Message: no such element: Unable to locate element: {\"method\":\"xpath\",\"selector\":\"//*[@id=\"kcmcGrid__ctl2_xk\"]\"}\n  (Session info: chrome=96.0.4664.110)\nStacktrace:\nBacktrace:\n\tOrdinal0 [0x002F3AB3+2505395]\n\tOrdinal0 [0x0028AE41+2076225]\n\tOrdinal0 [0x00192498+1057944]\n\tOrdinal0 [0x001BCB74+1231732]\n\tOrdinal0 [0x001E6D92+1404306]\n\tOrdinal0 [0x001D5A2A+1333802]\n\tOrdinal0 [0x001E5168+1397096]\n\tOrdinal0 [0x001D58BB+1333435]\n\tOrdinal0 [0x001B23E4+1188836]\n\tOrdinal0 [0x001B323F+1192511]\n\tGetHandleVerifier [0x0047CB36+1554566]\n\tGetHandleVerifier [0x00524A0C+2242396]\n\tGetHandleVerifier [0x00380E0B+523099]\n\tGetHandleVerifier [0x0037FEB0+519168]\n\tOrdinal0 [0x002902FD+2097917]\n\tOrdinal0 [0x00294388+2114440]\n\tOrdinal0 [0x002944C2+2114754]\n\tOrdinal0 [0x0029E041+2154561]\n\tBaseThreadInitThunk [0x76C3FA29+25]\n\tRtlGetAppContainerNamedObjectPath [0x77337A9E+286]\n\tRtlGetAppContainerNamedObjectPath [0x77337A6E+238]\n\t(No symbol) [0x00000000]\n"
     ]
    }
   ],
   "source": [
    "while True:\n",
    "    element = driver.find_element_by_xpath('//*[@id=\"kcmcGrid__ctl2_xk\"]')\n",
    "    driver.execute_script(\"arguments[0].click();\", element)\n",
    "    driver.find_element_by_xpath('//*[@id=\"Button1\"]').click()#提交\n",
    "    #alert = driver.switch_to.alert\n",
    "    if alert_is_present(driver):\n",
    "        driver.switch_to.alert.accept()"
   ]
  },
  {
   "cell_type": "code",
   "execution_count": null,
   "id": "782b5130",
   "metadata": {},
   "outputs": [],
   "source": [
    "alert = driver.switch_to.alert\n",
    "driver.switch_to.alert.accept()"
   ]
  },
  {
   "cell_type": "code",
   "execution_count": null,
   "id": "4572324d",
   "metadata": {
    "scrolled": true
   },
   "outputs": [],
   "source": [
    "%%time\n",
    "driver.find_element_by_xpath('//*[@id=\"kcmcGrid__ctl8_xk\"]').click()\n",
    "driver.find_element_by_xpath('//*[@id=\"Button1\"]').click()#提交  \n",
    "alert = driver.switch_to.alert\n",
    "driver.switch_to.alert.accept()\n"
   ]
  },
  {
   "cell_type": "code",
   "execution_count": null,
   "id": "996f6105",
   "metadata": {
    "scrolled": true
   },
   "outputs": [],
   "source": [
    "#driver.find_element_by_xpath('//*[@id=\"dpkcmcGrid_btnNextPage\"]').click()#下一页"
   ]
  },
  {
   "cell_type": "code",
   "execution_count": null,
   "id": "a7dd9c82",
   "metadata": {},
   "outputs": [],
   "source": [
    "#driver.find_element_by_xpath('//*[@id=\"dpkcmcGrid_btnPrePage\"]').click()#上一页"
   ]
  },
  {
   "cell_type": "code",
   "execution_count": null,
   "id": "52a5d73b",
   "metadata": {},
   "outputs": [],
   "source": [
    "driver.find_element_by_xpath('//*[@id=\"kcmcGrid__ctl2_xk\"]').click()"
   ]
  },
  {
   "cell_type": "code",
   "execution_count": null,
   "id": "d0dc19e6",
   "metadata": {
    "scrolled": true
   },
   "outputs": [],
   "source": [
    "driver.find_element_by_xpath('//*[@id=\"Button1\"]').click()#提交"
   ]
  },
  {
   "cell_type": "code",
   "execution_count": null,
   "id": "ebfffe75",
   "metadata": {
    "scrolled": true
   },
   "outputs": [],
   "source": [
    "#driver.find_element_by_xpath('//*[@id=\"dpkcmcGrid_btnNextPage\"]').click()#下一页"
   ]
  },
  {
   "cell_type": "code",
   "execution_count": null,
   "id": "95f3e034",
   "metadata": {},
   "outputs": [],
   "source": [
    "driver.switch_to.default_content()#返回主页面框架"
   ]
  },
  {
   "cell_type": "code",
   "execution_count": null,
   "id": "d7dbf361",
   "metadata": {},
   "outputs": [],
   "source": [
    "#from selenium.webdriver.common.action_chains import ActionChains\n",
    "#from selenium.webdriver.common.keys import Keys\n"
   ]
  },
  {
   "cell_type": "code",
   "execution_count": null,
   "id": "b991906d",
   "metadata": {},
   "outputs": [],
   "source": [
    "ActionChains(driver).send_keys(Keys.ENTER).perform()#回车键"
   ]
  },
  {
   "cell_type": "code",
   "execution_count": null,
   "id": "fa3a3b05",
   "metadata": {},
   "outputs": [],
   "source": []
  }
 ],
 "metadata": {
  "kernelspec": {
   "display_name": "Python 3 (ipykernel)",
   "language": "python",
   "name": "python3"
  },
  "language_info": {
   "codemirror_mode": {
    "name": "ipython",
    "version": 3
   },
   "file_extension": ".py",
   "mimetype": "text/x-python",
   "name": "python",
   "nbconvert_exporter": "python",
   "pygments_lexer": "ipython3",
   "version": "3.9.6"
  }
 },
 "nbformat": 4,
 "nbformat_minor": 5
}
