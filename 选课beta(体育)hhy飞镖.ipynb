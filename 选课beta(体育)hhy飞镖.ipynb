{
 "cells": [
  {
   "cell_type": "code",
   "execution_count": 11,
   "id": "d6786f3d",
   "metadata": {},
   "outputs": [],
   "source": [
    "import selenium \n",
    "from selenium import webdriver\n",
    "from selenium.webdriver.common.action_chains import *\n",
    "from selenium.webdriver.support.select import Select\n",
    "driver2 = webdriver.Chrome()"
   ]
  },
  {
   "cell_type": "code",
   "execution_count": 12,
   "id": "6f248131",
   "metadata": {},
   "outputs": [],
   "source": [
    "driver2.get(\"http://210.28.81.11/\")"
   ]
  },
  {
   "cell_type": "code",
   "execution_count": 13,
   "id": "d4fd8dee",
   "metadata": {
    "scrolled": true
   },
   "outputs": [
    {
     "name": "stdout",
     "output_type": "stream",
     "text": [
      "tqtu\n"
     ]
    }
   ],
   "source": [
    "verificationcode=input()\n",
    "Username='2120201805'\n",
    "password='Tomhua2001'"
   ]
  },
  {
   "cell_type": "code",
   "execution_count": 14,
   "id": "933786f1",
   "metadata": {},
   "outputs": [
    {
     "name": "stderr",
     "output_type": "stream",
     "text": [
      "C:\\Users\\华灏远\\AppData\\Local\\Temp/ipykernel_11948/64912011.py:1: DeprecationWarning: find_element_by_* commands are deprecated. Please use find_element() instead\n",
      "  driver2.find_element_by_xpath('//*[@id=\"txtSecretCode\"]').send_keys(verificationcode)\n"
     ]
    }
   ],
   "source": [
    "driver2.find_element_by_xpath('//*[@id=\"txtSecretCode\"]').send_keys(verificationcode)"
   ]
  },
  {
   "cell_type": "code",
   "execution_count": 15,
   "id": "37199a2f",
   "metadata": {},
   "outputs": [
    {
     "name": "stderr",
     "output_type": "stream",
     "text": [
      "C:\\Users\\华灏远\\AppData\\Local\\Temp/ipykernel_11948/1185855075.py:1: DeprecationWarning: find_element_by_* commands are deprecated. Please use find_element() instead\n",
      "  driver2.find_element_by_xpath('//*[@id=\"txtUserName\"]').send_keys(Username)\n"
     ]
    }
   ],
   "source": [
    "driver2.find_element_by_xpath('//*[@id=\"txtUserName\"]').send_keys(Username)"
   ]
  },
  {
   "cell_type": "code",
   "execution_count": 16,
   "id": "13c1d1f4",
   "metadata": {},
   "outputs": [
    {
     "name": "stderr",
     "output_type": "stream",
     "text": [
      "C:\\Users\\华灏远\\AppData\\Local\\Temp/ipykernel_11948/2978347838.py:1: DeprecationWarning: find_element_by_* commands are deprecated. Please use find_element() instead\n",
      "  driver2.find_element_by_xpath('//*[@id=\"TextBox2\"]').send_keys(password)\n"
     ]
    }
   ],
   "source": [
    "driver2.find_element_by_xpath('//*[@id=\"TextBox2\"]').send_keys(password)"
   ]
  },
  {
   "cell_type": "code",
   "execution_count": 17,
   "id": "d3328ec5",
   "metadata": {},
   "outputs": [
    {
     "name": "stderr",
     "output_type": "stream",
     "text": [
      "C:\\Users\\华灏远\\AppData\\Local\\Temp/ipykernel_11948/1565201053.py:1: DeprecationWarning: find_element_by_* commands are deprecated. Please use find_element() instead\n",
      "  driver2.find_element_by_xpath('//*[@id=\"Button1\"]').click()#登录按钮\n"
     ]
    }
   ],
   "source": [
    "driver2.find_element_by_xpath('//*[@id=\"Button1\"]').click()#登录按钮"
   ]
  },
  {
   "cell_type": "code",
   "execution_count": 18,
   "id": "dc460de6",
   "metadata": {},
   "outputs": [],
   "source": [
    "#driver.switch_to.frame"
   ]
  },
  {
   "cell_type": "code",
   "execution_count": 19,
   "id": "41dddd22",
   "metadata": {},
   "outputs": [
    {
     "name": "stderr",
     "output_type": "stream",
     "text": [
      "C:\\Users\\华灏远\\AppData\\Local\\Temp/ipykernel_11948/1498714228.py:1: DeprecationWarning: find_element_by_* commands are deprecated. Please use find_element() instead\n",
      "  move = driver2.find_element_by_xpath('//*[@id=\"headDiv\"]/ul/li[2]/a/span')\n"
     ]
    }
   ],
   "source": [
    "move = driver2.find_element_by_xpath('//*[@id=\"headDiv\"]/ul/li[2]/a/span')\n",
    "ActionChains(driver2).move_to_element(move).perform()#悬浮鼠标，拉出选项卡"
   ]
  },
  {
   "cell_type": "code",
   "execution_count": 20,
   "id": "1dd5fc6e",
   "metadata": {},
   "outputs": [
    {
     "name": "stderr",
     "output_type": "stream",
     "text": [
      "C:\\Users\\华灏远\\AppData\\Local\\Temp/ipykernel_11948/1597286996.py:1: DeprecationWarning: find_element_by_* commands are deprecated. Please use find_element() instead\n",
      "  driver2.find_element_by_xpath('//*[@id=\"headDiv\"]/ul/li[2]/ul/li/a').click() #体育选课\n"
     ]
    }
   ],
   "source": [
    "driver2.find_element_by_xpath('//*[@id=\"headDiv\"]/ul/li[2]/ul/li/a').click() #体育选课"
   ]
  },
  {
   "cell_type": "code",
   "execution_count": 21,
   "id": "366bbeb5",
   "metadata": {},
   "outputs": [
    {
     "name": "stderr",
     "output_type": "stream",
     "text": [
      "C:\\Users\\华灏远\\AppData\\Local\\Temp/ipykernel_11948/1544171134.py:1: DeprecationWarning: find_element_by_* commands are deprecated. Please use find_element() instead\n",
      "  driver2.switch_to.frame(driver2.find_element_by_xpath('//*[@id=\"iframeautoheight\"]')) #进入iframe中,很重要，否则会找不到提交\n"
     ]
    }
   ],
   "source": [
    "driver2.switch_to.frame(driver2.find_element_by_xpath('//*[@id=\"iframeautoheight\"]')) #进入iframe中,很重要，否则会找不到提交"
   ]
  },
  {
   "cell_type": "code",
   "execution_count": 22,
   "id": "25ad706b",
   "metadata": {},
   "outputs": [
    {
     "name": "stderr",
     "output_type": "stream",
     "text": [
      "C:\\Users\\华灏远\\AppData\\Local\\Temp/ipykernel_11948/1119345015.py:1: DeprecationWarning: find_element_by_* commands are deprecated. Please use find_element() instead\n",
      "  Select(driver2.find_element_by_id('kj')).select_by_value('板块（6）')\n"
     ]
    }
   ],
   "source": [
    "Select(driver2.find_element_by_id('kj')).select_by_value('板块（6）')  "
   ]
  },
  {
   "cell_type": "code",
   "execution_count": 23,
   "id": "2e96d8a2",
   "metadata": {},
   "outputs": [
    {
     "name": "stderr",
     "output_type": "stream",
     "text": [
      "C:\\Users\\华灏远\\AppData\\Local\\Temp/ipykernel_11948/1524569631.py:2: DeprecationWarning: find_element_by_* commands are deprecated. Please use find_element() instead\n",
      "  element = driver2.find_element_by_xpath('//*[@id=\"kcmcGrid__ctl7_xk\"]')\n",
      "C:\\Users\\华灏远\\AppData\\Local\\Temp/ipykernel_11948/1524569631.py:4: DeprecationWarning: find_element_by_* commands are deprecated. Please use find_element() instead\n",
      "  driver2.find_element_by_xpath('//*[@id=\"Button1\"]').click()#提交\n"
     ]
    },
    {
     "ename": "NoSuchWindowException",
     "evalue": "Message: no such window: target window already closed\nfrom unknown error: web view not found\n  (Session info: chrome=96.0.4664.93)\nStacktrace:\nBacktrace:\n\tOrdinal0 [0x00BD3AB3+2505395]\n\tOrdinal0 [0x00B6AE41+2076225]\n\tOrdinal0 [0x00A72498+1057944]\n\tOrdinal0 [0x00A5BE96+966294]\n\tOrdinal0 [0x00AB7F19+1343257]\n\tOrdinal0 [0x00A814B1+1119409]\n\tOrdinal0 [0x00AB58BB+1333435]\n\tOrdinal0 [0x00A923E4+1188836]\n\tOrdinal0 [0x00A9323F+1192511]\n\tGetHandleVerifier [0x00D5CB36+1554566]\n\tGetHandleVerifier [0x00E04A0C+2242396]\n\tGetHandleVerifier [0x00C60E0B+523099]\n\tGetHandleVerifier [0x00C5FEB0+519168]\n\tOrdinal0 [0x00B702FD+2097917]\n\tOrdinal0 [0x00B74388+2114440]\n\tOrdinal0 [0x00B744C2+2114754]\n\tOrdinal0 [0x00B7E041+2154561]\n\tBaseThreadInitThunk [0x7581FA29+25]\n\tRtlGetAppContainerNamedObjectPath [0x770D7A9E+286]\n\tRtlGetAppContainerNamedObjectPath [0x770D7A6E+238]\n",
     "output_type": "error",
     "traceback": [
      "\u001b[1;31m---------------------------------------------------------------------------\u001b[0m",
      "\u001b[1;31mNoSuchWindowException\u001b[0m                     Traceback (most recent call last)",
      "\u001b[1;32m~\\AppData\\Local\\Temp/ipykernel_11948/1524569631.py\u001b[0m in \u001b[0;36m<module>\u001b[1;34m\u001b[0m\n\u001b[0;32m      3\u001b[0m     \u001b[0mdriver2\u001b[0m\u001b[1;33m.\u001b[0m\u001b[0mexecute_script\u001b[0m\u001b[1;33m(\u001b[0m\u001b[1;34m\"arguments[0].click();\"\u001b[0m\u001b[1;33m,\u001b[0m \u001b[0melement\u001b[0m\u001b[1;33m)\u001b[0m\u001b[1;33m\u001b[0m\u001b[1;33m\u001b[0m\u001b[0m\n\u001b[0;32m      4\u001b[0m     \u001b[0mdriver2\u001b[0m\u001b[1;33m.\u001b[0m\u001b[0mfind_element_by_xpath\u001b[0m\u001b[1;33m(\u001b[0m\u001b[1;34m'//*[@id=\"Button1\"]'\u001b[0m\u001b[1;33m)\u001b[0m\u001b[1;33m.\u001b[0m\u001b[0mclick\u001b[0m\u001b[1;33m(\u001b[0m\u001b[1;33m)\u001b[0m\u001b[1;31m#提交\u001b[0m\u001b[1;33m\u001b[0m\u001b[1;33m\u001b[0m\u001b[0m\n\u001b[1;32m----> 5\u001b[1;33m     \u001b[0malert\u001b[0m \u001b[1;33m=\u001b[0m \u001b[0mdriver2\u001b[0m\u001b[1;33m.\u001b[0m\u001b[0mswitch_to\u001b[0m\u001b[1;33m.\u001b[0m\u001b[0malert\u001b[0m\u001b[1;33m\u001b[0m\u001b[1;33m\u001b[0m\u001b[0m\n\u001b[0m\u001b[0;32m      6\u001b[0m     \u001b[0mdriver2\u001b[0m\u001b[1;33m.\u001b[0m\u001b[0mswitch_to\u001b[0m\u001b[1;33m.\u001b[0m\u001b[0malert\u001b[0m\u001b[1;33m.\u001b[0m\u001b[0maccept\u001b[0m\u001b[1;33m(\u001b[0m\u001b[1;33m)\u001b[0m\u001b[1;33m\u001b[0m\u001b[1;33m\u001b[0m\u001b[0m\n",
      "\u001b[1;32mc:\\users\\华灏远\\appdata\\local\\programs\\python\\python39\\lib\\site-packages\\selenium\\webdriver\\remote\\switch_to.py\u001b[0m in \u001b[0;36malert\u001b[1;34m(self)\u001b[0m\n\u001b[0;32m     54\u001b[0m         \"\"\"\n\u001b[0;32m     55\u001b[0m         \u001b[0malert\u001b[0m \u001b[1;33m=\u001b[0m \u001b[0mAlert\u001b[0m\u001b[1;33m(\u001b[0m\u001b[0mself\u001b[0m\u001b[1;33m.\u001b[0m\u001b[0m_driver\u001b[0m\u001b[1;33m)\u001b[0m\u001b[1;33m\u001b[0m\u001b[1;33m\u001b[0m\u001b[0m\n\u001b[1;32m---> 56\u001b[1;33m         \u001b[0malert\u001b[0m\u001b[1;33m.\u001b[0m\u001b[0mtext\u001b[0m\u001b[1;33m\u001b[0m\u001b[1;33m\u001b[0m\u001b[0m\n\u001b[0m\u001b[0;32m     57\u001b[0m         \u001b[1;32mreturn\u001b[0m \u001b[0malert\u001b[0m\u001b[1;33m\u001b[0m\u001b[1;33m\u001b[0m\u001b[0m\n\u001b[0;32m     58\u001b[0m \u001b[1;33m\u001b[0m\u001b[0m\n",
      "\u001b[1;32mc:\\users\\华灏远\\appdata\\local\\programs\\python\\python39\\lib\\site-packages\\selenium\\webdriver\\common\\alert.py\u001b[0m in \u001b[0;36mtext\u001b[1;34m(self)\u001b[0m\n\u001b[0;32m     64\u001b[0m         \u001b[0mGets\u001b[0m \u001b[0mthe\u001b[0m \u001b[0mtext\u001b[0m \u001b[0mof\u001b[0m \u001b[0mthe\u001b[0m \u001b[0mAlert\u001b[0m\u001b[1;33m.\u001b[0m\u001b[1;33m\u001b[0m\u001b[1;33m\u001b[0m\u001b[0m\n\u001b[0;32m     65\u001b[0m         \"\"\"\n\u001b[1;32m---> 66\u001b[1;33m         \u001b[1;32mreturn\u001b[0m \u001b[0mself\u001b[0m\u001b[1;33m.\u001b[0m\u001b[0mdriver\u001b[0m\u001b[1;33m.\u001b[0m\u001b[0mexecute\u001b[0m\u001b[1;33m(\u001b[0m\u001b[0mCommand\u001b[0m\u001b[1;33m.\u001b[0m\u001b[0mW3C_GET_ALERT_TEXT\u001b[0m\u001b[1;33m)\u001b[0m\u001b[1;33m[\u001b[0m\u001b[1;34m\"value\"\u001b[0m\u001b[1;33m]\u001b[0m\u001b[1;33m\u001b[0m\u001b[1;33m\u001b[0m\u001b[0m\n\u001b[0m\u001b[0;32m     67\u001b[0m \u001b[1;33m\u001b[0m\u001b[0m\n\u001b[0;32m     68\u001b[0m     \u001b[1;32mdef\u001b[0m \u001b[0mdismiss\u001b[0m\u001b[1;33m(\u001b[0m\u001b[0mself\u001b[0m\u001b[1;33m)\u001b[0m\u001b[1;33m:\u001b[0m\u001b[1;33m\u001b[0m\u001b[1;33m\u001b[0m\u001b[0m\n",
      "\u001b[1;32mc:\\users\\华灏远\\appdata\\local\\programs\\python\\python39\\lib\\site-packages\\selenium\\webdriver\\remote\\webdriver.py\u001b[0m in \u001b[0;36mexecute\u001b[1;34m(self, driver_command, params)\u001b[0m\n\u001b[0;32m    416\u001b[0m         \u001b[0mresponse\u001b[0m \u001b[1;33m=\u001b[0m \u001b[0mself\u001b[0m\u001b[1;33m.\u001b[0m\u001b[0mcommand_executor\u001b[0m\u001b[1;33m.\u001b[0m\u001b[0mexecute\u001b[0m\u001b[1;33m(\u001b[0m\u001b[0mdriver_command\u001b[0m\u001b[1;33m,\u001b[0m \u001b[0mparams\u001b[0m\u001b[1;33m)\u001b[0m\u001b[1;33m\u001b[0m\u001b[1;33m\u001b[0m\u001b[0m\n\u001b[0;32m    417\u001b[0m         \u001b[1;32mif\u001b[0m \u001b[0mresponse\u001b[0m\u001b[1;33m:\u001b[0m\u001b[1;33m\u001b[0m\u001b[1;33m\u001b[0m\u001b[0m\n\u001b[1;32m--> 418\u001b[1;33m             \u001b[0mself\u001b[0m\u001b[1;33m.\u001b[0m\u001b[0merror_handler\u001b[0m\u001b[1;33m.\u001b[0m\u001b[0mcheck_response\u001b[0m\u001b[1;33m(\u001b[0m\u001b[0mresponse\u001b[0m\u001b[1;33m)\u001b[0m\u001b[1;33m\u001b[0m\u001b[1;33m\u001b[0m\u001b[0m\n\u001b[0m\u001b[0;32m    419\u001b[0m             response['value'] = self._unwrap_value(\n\u001b[0;32m    420\u001b[0m                 response.get('value', None))\n",
      "\u001b[1;32mc:\\users\\华灏远\\appdata\\local\\programs\\python\\python39\\lib\\site-packages\\selenium\\webdriver\\remote\\errorhandler.py\u001b[0m in \u001b[0;36mcheck_response\u001b[1;34m(self, response)\u001b[0m\n\u001b[0;32m    241\u001b[0m                 \u001b[0malert_text\u001b[0m \u001b[1;33m=\u001b[0m \u001b[0mvalue\u001b[0m\u001b[1;33m[\u001b[0m\u001b[1;34m'alert'\u001b[0m\u001b[1;33m]\u001b[0m\u001b[1;33m.\u001b[0m\u001b[0mget\u001b[0m\u001b[1;33m(\u001b[0m\u001b[1;34m'text'\u001b[0m\u001b[1;33m)\u001b[0m\u001b[1;33m\u001b[0m\u001b[1;33m\u001b[0m\u001b[0m\n\u001b[0;32m    242\u001b[0m             \u001b[1;32mraise\u001b[0m \u001b[0mexception_class\u001b[0m\u001b[1;33m(\u001b[0m\u001b[0mmessage\u001b[0m\u001b[1;33m,\u001b[0m \u001b[0mscreen\u001b[0m\u001b[1;33m,\u001b[0m \u001b[0mstacktrace\u001b[0m\u001b[1;33m,\u001b[0m \u001b[0malert_text\u001b[0m\u001b[1;33m)\u001b[0m  \u001b[1;31m# type: ignore[call-arg]  # mypy is not smart enough here\u001b[0m\u001b[1;33m\u001b[0m\u001b[1;33m\u001b[0m\u001b[0m\n\u001b[1;32m--> 243\u001b[1;33m         \u001b[1;32mraise\u001b[0m \u001b[0mexception_class\u001b[0m\u001b[1;33m(\u001b[0m\u001b[0mmessage\u001b[0m\u001b[1;33m,\u001b[0m \u001b[0mscreen\u001b[0m\u001b[1;33m,\u001b[0m \u001b[0mstacktrace\u001b[0m\u001b[1;33m)\u001b[0m\u001b[1;33m\u001b[0m\u001b[1;33m\u001b[0m\u001b[0m\n\u001b[0m\u001b[0;32m    244\u001b[0m \u001b[1;33m\u001b[0m\u001b[0m\n\u001b[0;32m    245\u001b[0m     \u001b[1;32mdef\u001b[0m \u001b[0m_value_or_default\u001b[0m\u001b[1;33m(\u001b[0m\u001b[0mself\u001b[0m\u001b[1;33m,\u001b[0m \u001b[0mobj\u001b[0m\u001b[1;33m:\u001b[0m \u001b[0mMapping\u001b[0m\u001b[1;33m[\u001b[0m\u001b[0m_KT\u001b[0m\u001b[1;33m,\u001b[0m \u001b[0m_VT\u001b[0m\u001b[1;33m]\u001b[0m\u001b[1;33m,\u001b[0m \u001b[0mkey\u001b[0m\u001b[1;33m:\u001b[0m \u001b[0m_KT\u001b[0m\u001b[1;33m,\u001b[0m \u001b[0mdefault\u001b[0m\u001b[1;33m:\u001b[0m \u001b[0m_VT\u001b[0m\u001b[1;33m)\u001b[0m \u001b[1;33m->\u001b[0m \u001b[0m_VT\u001b[0m\u001b[1;33m:\u001b[0m\u001b[1;33m\u001b[0m\u001b[1;33m\u001b[0m\u001b[0m\n",
      "\u001b[1;31mNoSuchWindowException\u001b[0m: Message: no such window: target window already closed\nfrom unknown error: web view not found\n  (Session info: chrome=96.0.4664.93)\nStacktrace:\nBacktrace:\n\tOrdinal0 [0x00BD3AB3+2505395]\n\tOrdinal0 [0x00B6AE41+2076225]\n\tOrdinal0 [0x00A72498+1057944]\n\tOrdinal0 [0x00A5BE96+966294]\n\tOrdinal0 [0x00AB7F19+1343257]\n\tOrdinal0 [0x00A814B1+1119409]\n\tOrdinal0 [0x00AB58BB+1333435]\n\tOrdinal0 [0x00A923E4+1188836]\n\tOrdinal0 [0x00A9323F+1192511]\n\tGetHandleVerifier [0x00D5CB36+1554566]\n\tGetHandleVerifier [0x00E04A0C+2242396]\n\tGetHandleVerifier [0x00C60E0B+523099]\n\tGetHandleVerifier [0x00C5FEB0+519168]\n\tOrdinal0 [0x00B702FD+2097917]\n\tOrdinal0 [0x00B74388+2114440]\n\tOrdinal0 [0x00B744C2+2114754]\n\tOrdinal0 [0x00B7E041+2154561]\n\tBaseThreadInitThunk [0x7581FA29+25]\n\tRtlGetAppContainerNamedObjectPath [0x770D7A9E+286]\n\tRtlGetAppContainerNamedObjectPath [0x770D7A6E+238]\n"
     ]
    }
   ],
   "source": [
    "while True:\n",
    "    element = driver2.find_element_by_xpath('//*[@id=\"kcmcGrid__ctl2_xk\"]')\n",
    "    driver2.execute_script(\"arguments[0].click();\", element)\n",
    "    driver2.find_element_by_xpath('//*[@id=\"Button1\"]').click()#提交\n",
    "    alert = driver2.switch_to.alert\n",
    "    driver2.switch_to.alert.accept()"
   ]
  },
  {
   "cell_type": "code",
   "execution_count": null,
   "id": "996f6105",
   "metadata": {
    "scrolled": true
   },
   "outputs": [],
   "source": [
    "#driver2.find_element_by_xpath('//*[@id=\"dpkcmcGrid_btnNextPage\"]').click()#下一页"
   ]
  },
  {
   "cell_type": "code",
   "execution_count": null,
   "id": "a7dd9c82",
   "metadata": {},
   "outputs": [],
   "source": [
    "#driver2.find_element_by_xpath('//*[@id=\"dpkcmcGrid_btnPrePage\"]').click()#上一页"
   ]
  },
  {
   "cell_type": "code",
   "execution_count": null,
   "id": "52a5d73b",
   "metadata": {},
   "outputs": [],
   "source": [
    "#driver2.find_element_by_xpath('//*[@id=\"kcmcGrid__ctl2_xk\"]').click()"
   ]
  },
  {
   "cell_type": "code",
   "execution_count": null,
   "id": "d0dc19e6",
   "metadata": {
    "scrolled": true
   },
   "outputs": [],
   "source": [
    "#driver2.find_element_by_xpath('//*[@id=\"Button1\"]').click()#提交"
   ]
  },
  {
   "cell_type": "code",
   "execution_count": null,
   "id": "ebfffe75",
   "metadata": {
    "scrolled": true
   },
   "outputs": [],
   "source": [
    "#driver2.find_element_by_xpath('//*[@id=\"dpkcmcGrid_btnNextPage\"]').click()#下一页"
   ]
  },
  {
   "cell_type": "code",
   "execution_count": null,
   "id": "95f3e034",
   "metadata": {},
   "outputs": [],
   "source": [
    "#driver2.switch_to.default_content()#返回主页面框架"
   ]
  },
  {
   "cell_type": "code",
   "execution_count": null,
   "id": "d7dbf361",
   "metadata": {},
   "outputs": [],
   "source": [
    "#from selenium.webdriver.common.action_chains import ActionChains\n",
    "#from selenium.webdriver.common.keys import Keys\n"
   ]
  },
  {
   "cell_type": "code",
   "execution_count": null,
   "id": "b991906d",
   "metadata": {},
   "outputs": [],
   "source": [
    "#ActionChains(driver2).send_keys(Keys.ENTER).perform()#回车键"
   ]
  },
  {
   "cell_type": "code",
   "execution_count": null,
   "id": "fa3a3b05",
   "metadata": {},
   "outputs": [],
   "source": []
  }
 ],
 "metadata": {
  "kernelspec": {
   "display_name": "Python 3 (ipykernel)",
   "language": "python",
   "name": "python3"
  },
  "language_info": {
   "codemirror_mode": {
    "name": "ipython",
    "version": 3
   },
   "file_extension": ".py",
   "mimetype": "text/x-python",
   "name": "python",
   "nbconvert_exporter": "python",
   "pygments_lexer": "ipython3",
   "version": "3.9.6"
  }
 },
 "nbformat": 4,
 "nbformat_minor": 5
}
