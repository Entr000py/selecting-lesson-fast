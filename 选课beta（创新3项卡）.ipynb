{
 "cells": [
  {
   "cell_type": "code",
   "execution_count": null,
   "id": "d6786f3d",
   "metadata": {},
   "outputs": [],
   "source": [
    "import selenium \n",
    "from selenium import webdriver\n",
    "from selenium.webdriver.common.action_chains import *\n",
    "from selenium.webdriver.common.action_chains import ActionChains\n",
    "from selenium.webdriver.common.keys import Keys\n",
    "import time"
   ]
  },
  {
   "cell_type": "code",
   "execution_count": null,
   "id": "8d9ca78e",
   "metadata": {},
   "outputs": [],
   "source": [
    "driver = webdriver.Chrome()"
   ]
  },
  {
   "cell_type": "code",
   "execution_count": null,
   "id": "6f248131",
   "metadata": {},
   "outputs": [],
   "source": [
    "driver.get(\"http://210.28.81.11/\")"
   ]
  },
  {
   "cell_type": "code",
   "execution_count": null,
   "id": "d820e6f7",
   "metadata": {},
   "outputs": [],
   "source": [
    "verificationcode=input()\n",
    "Username=''\n",
    "password=''"
   ]
  },
  {
   "cell_type": "code",
   "execution_count": null,
   "id": "933786f1",
   "metadata": {
    "scrolled": true
   },
   "outputs": [],
   "source": [
    "driver.find_element_by_xpath('//*[@id=\"txtSecretCode\"]').send_keys(verificationcode)"
   ]
  },
  {
   "cell_type": "code",
   "execution_count": null,
   "id": "37199a2f",
   "metadata": {},
   "outputs": [],
   "source": [
    "driver.find_element_by_xpath('//*[@id=\"txtUserName\"]').send_keys(Username)"
   ]
  },
  {
   "cell_type": "code",
   "execution_count": null,
   "id": "13c1d1f4",
   "metadata": {},
   "outputs": [],
   "source": [
    "driver.find_element_by_xpath('//*[@id=\"TextBox2\"]').send_keys(password)"
   ]
  },
  {
   "cell_type": "code",
   "execution_count": null,
   "id": "d3328ec5",
   "metadata": {},
   "outputs": [],
   "source": [
    "driver.find_element_by_xpath('//*[@id=\"Button1\"]').click()#登录按钮"
   ]
  },
  {
   "cell_type": "code",
   "execution_count": null,
   "id": "f42eabc3",
   "metadata": {
    "scrolled": true
   },
   "outputs": [],
   "source": [
    "#driver.find_element_by_xpath('//*[@id=\"headDiv\"]/ul/li[2]/a/span').click()"
   ]
  },
  {
   "cell_type": "code",
   "execution_count": null,
   "id": "dc460de6",
   "metadata": {},
   "outputs": [],
   "source": [
    "#driver.switch_to.frame"
   ]
  },
  {
   "cell_type": "code",
   "execution_count": null,
   "id": "41dddd22",
   "metadata": {
    "scrolled": true
   },
   "outputs": [],
   "source": [
    "move = driver.find_element_by_xpath('//*[@id=\"headDiv\"]/ul/li[2]/a/span')\n",
    "ActionChains(driver).move_to_element(move).perform()#悬浮鼠标，拉出选项卡"
   ]
  },
  {
   "cell_type": "code",
   "execution_count": null,
   "id": "44e8375a",
   "metadata": {},
   "outputs": [],
   "source": [
    "driver.find_element_by_xpath('//*[@id=\"headDiv\"]/ul/li[2]/ul/li[1]/a').click()#通识"
   ]
  },
  {
   "cell_type": "code",
   "execution_count": null,
   "id": "ae84d31d",
   "metadata": {},
   "outputs": [],
   "source": [
    "#driver.find_element_by_xpath('//*[@id=\"headDiv\"]/ul/li[2]/ul/li[2]/a').click()#专业任意专限"
   ]
  },
  {
   "cell_type": "code",
   "execution_count": null,
   "id": "b9264dcf",
   "metadata": {},
   "outputs": [],
   "source": [
    "#driver.find_element_by_xpath('//*[@id=\"headDiv\"]/ul/li[2]/ul/li[3]/a').click()#创新、外语"
   ]
  },
  {
   "cell_type": "code",
   "execution_count": null,
   "id": "366bbeb5",
   "metadata": {
    "scrolled": true
   },
   "outputs": [],
   "source": [
    "driver.switch_to.frame(driver.find_element_by_xpath('//*[@id=\"iframeautoheight\"]')) #进入iframe中,很重要，否则会找不到提交"
   ]
  },
  {
   "cell_type": "code",
   "execution_count": null,
   "id": "28e34183",
   "metadata": {},
   "outputs": [],
   "source": [
    "#import warnings"
   ]
  },
  {
   "cell_type": "code",
   "execution_count": null,
   "id": "c77afae3",
   "metadata": {},
   "outputs": [],
   "source": [
    "#warnings.filterwarnings(\"ignore\")"
   ]
  },
  {
   "cell_type": "code",
   "execution_count": null,
   "id": "f14eebd7",
   "metadata": {},
   "outputs": [],
   "source": [
    "def alert_is_present(driver):\n",
    "    try:\n",
    "        alert = driver.switch_to.alert\n",
    "        alert.text\n",
    "        return alert\n",
    "    except:\n",
    "        return False"
   ]
  },
  {
   "cell_type": "code",
   "execution_count": null,
   "id": "0f3005e3",
   "metadata": {},
   "outputs": [],
   "source": [
    "#driver.find_element_by_xpath('//*[@id=\"dpkcmcGrid_btnNextPage\"]').click()#下一页"
   ]
  },
  {
   "cell_type": "code",
   "execution_count": null,
   "id": "59a27bac",
   "metadata": {},
   "outputs": [],
   "source": [
    "#driver.find_element_by_xpath('//*[@id=\"kcmcGrid__ctl3_xk\"]').click()"
   ]
  },
  {
   "cell_type": "code",
   "execution_count": null,
   "id": "464355a1",
   "metadata": {},
   "outputs": [],
   "source": [
    "#element = driver.find_element_by_xpath('//*[@id=\"kcmcGrid__ctl3_xk\"]')\n",
    "#driver.execute_script(\"arguments[0].click();\", element)"
   ]
  },
  {
   "cell_type": "code",
   "execution_count": null,
   "id": "425cdde4",
   "metadata": {},
   "outputs": [],
   "source": [
    "while True:\n",
    "    element = driver.find_element_by_xpath('//*[@id=\"kcmcGrid__ctl2_xk\"]')\n",
    "    driver.execute_script(\"arguments[0].click();\", element)\n",
    "    driver.find_element_by_xpath('//*[@id=\"Button1\"]').click()#提交\n",
    "    #alert = driver.switch_to.alert\n",
    "    if alert_is_present(driver):\n",
    "        driver.switch_to.alert.accept()"
   ]
  },
  {
   "cell_type": "code",
   "execution_count": null,
   "id": "782b5130",
   "metadata": {},
   "outputs": [],
   "source": [
    "alert = driver.switch_to.alert\n",
    "driver.switch_to.alert.accept()"
   ]
  },
  {
   "cell_type": "code",
   "execution_count": null,
   "id": "4572324d",
   "metadata": {
    "scrolled": true
   },
   "outputs": [],
   "source": [
    "%%time\n",
    "driver.find_element_by_xpath('//*[@id=\"kcmcGrid__ctl8_xk\"]').click()\n",
    "driver.find_element_by_xpath('//*[@id=\"Button1\"]').click()#提交  \n",
    "alert = driver.switch_to.alert\n",
    "driver.switch_to.alert.accept()\n"
   ]
  },
  {
   "cell_type": "code",
   "execution_count": null,
   "id": "996f6105",
   "metadata": {
    "scrolled": true
   },
   "outputs": [],
   "source": [
    "#driver.find_element_by_xpath('//*[@id=\"dpkcmcGrid_btnNextPage\"]').click()#下一页"
   ]
  },
  {
   "cell_type": "code",
   "execution_count": null,
   "id": "a7dd9c82",
   "metadata": {},
   "outputs": [],
   "source": [
    "#driver.find_element_by_xpath('//*[@id=\"dpkcmcGrid_btnPrePage\"]').click()#上一页"
   ]
  },
  {
   "cell_type": "code",
   "execution_count": null,
   "id": "52a5d73b",
   "metadata": {},
   "outputs": [],
   "source": [
    "driver.find_element_by_xpath('//*[@id=\"kcmcGrid__ctl2_xk\"]').click()"
   ]
  },
  {
   "cell_type": "code",
   "execution_count": null,
   "id": "d0dc19e6",
   "metadata": {
    "scrolled": true
   },
   "outputs": [],
   "source": [
    "driver.find_element_by_xpath('//*[@id=\"Button1\"]').click()#提交"
   ]
  },
  {
   "cell_type": "code",
   "execution_count": null,
   "id": "ebfffe75",
   "metadata": {
    "scrolled": true
   },
   "outputs": [],
   "source": [
    "#driver.find_element_by_xpath('//*[@id=\"dpkcmcGrid_btnNextPage\"]').click()#下一页"
   ]
  },
  {
   "cell_type": "code",
   "execution_count": null,
   "id": "95f3e034",
   "metadata": {},
   "outputs": [],
   "source": [
    "driver.switch_to.default_content()#返回主页面框架"
   ]
  },
  {
   "cell_type": "code",
   "execution_count": null,
   "id": "d7dbf361",
   "metadata": {},
   "outputs": [],
   "source": [
    "#from selenium.webdriver.common.action_chains import ActionChains\n",
    "#from selenium.webdriver.common.keys import Keys\n"
   ]
  },
  {
   "cell_type": "code",
   "execution_count": null,
   "id": "b991906d",
   "metadata": {},
   "outputs": [],
   "source": [
    "ActionChains(driver).send_keys(Keys.ENTER).perform()#回车键"
   ]
  },
  {
   "cell_type": "code",
   "execution_count": null,
   "id": "fa3a3b05",
   "metadata": {},
   "outputs": [],
   "source": []
  }
 ],
 "metadata": {
  "kernelspec": {
   "display_name": "Python 3 (ipykernel)",
   "language": "python",
   "name": "python3"
  },
  "language_info": {
   "codemirror_mode": {
    "name": "ipython",
    "version": 3
   },
   "file_extension": ".py",
   "mimetype": "text/x-python",
   "name": "python",
   "nbconvert_exporter": "python",
   "pygments_lexer": "ipython3",
   "version": "3.9.6"
  }
 },
 "nbformat": 4,
 "nbformat_minor": 5
}
