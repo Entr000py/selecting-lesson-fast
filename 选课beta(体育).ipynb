{
 "cells": [
  {
   "cell_type": "code",
   "execution_count": null,
   "id": "d6786f3d",
   "metadata": {},
   "outputs": [],
   "source": [
    "import selenium \n",
    "from selenium import webdriver\n",
    "from selenium.webdriver.common.action_chains import *\n",
    "from selenium.webdriver.support.select import Select\n",
    "driver2 = webdriver.Chrome()"
   ]
  },
  {
   "cell_type": "code",
   "execution_count": null,
   "id": "6f248131",
   "metadata": {},
   "outputs": [],
   "source": [
    "driver2.get(\"http://210.28.81.11/\")"
   ]
  },
  {
   "cell_type": "code",
   "execution_count": null,
   "id": "d4fd8dee",
   "metadata": {
    "scrolled": true
   },
   "outputs": [],
   "source": [
    "verificationcode=input()\n",
    "Username=''\n",
    "password=''"
   ]
  },
  {
   "cell_type": "code",
   "execution_count": null,
   "id": "933786f1",
   "metadata": {},
   "outputs": [],
   "source": [
    "driver2.find_element_by_xpath('//*[@id=\"txtSecretCode\"]').send_keys(verificationcode)"
   ]
  },
  {
   "cell_type": "code",
   "execution_count": null,
   "id": "37199a2f",
   "metadata": {},
   "outputs": [],
   "source": [
    "driver2.find_element_by_xpath('//*[@id=\"txtUserName\"]').send_keys(Username)"
   ]
  },
  {
   "cell_type": "code",
   "execution_count": null,
   "id": "13c1d1f4",
   "metadata": {},
   "outputs": [],
   "source": [
    "driver2.find_element_by_xpath('//*[@id=\"TextBox2\"]').send_keys(password)"
   ]
  },
  {
   "cell_type": "code",
   "execution_count": null,
   "id": "d3328ec5",
   "metadata": {},
   "outputs": [],
   "source": [
    "driver2.find_element_by_xpath('//*[@id=\"Button1\"]').click()#登录按钮"
   ]
  },
  {
   "cell_type": "code",
   "execution_count": null,
   "id": "dc460de6",
   "metadata": {},
   "outputs": [],
   "source": [
    "#driver.switch_to.frame"
   ]
  },
  {
   "cell_type": "code",
   "execution_count": null,
   "id": "41dddd22",
   "metadata": {},
   "outputs": [],
   "source": [
    "move = driver2.find_element_by_xpath('//*[@id=\"headDiv\"]/ul/li[2]/a/span')\n",
    "ActionChains(driver2).move_to_element(move).perform()#悬浮鼠标，拉出选项卡"
   ]
  },
  {
   "cell_type": "code",
   "execution_count": null,
   "id": "1dd5fc6e",
   "metadata": {},
   "outputs": [],
   "source": [
    "driver2.find_element_by_xpath('//*[@id=\"headDiv\"]/ul/li[2]/ul/li/a').click() #体育选课"
   ]
  },
  {
   "cell_type": "code",
   "execution_count": null,
   "id": "366bbeb5",
   "metadata": {},
   "outputs": [],
   "source": [
    "driver2.switch_to.frame(driver2.find_element_by_xpath('//*[@id=\"iframeautoheight\"]')) #进入iframe中,很重要，否则会找不到提交"
   ]
  },
  {
   "cell_type": "code",
   "execution_count": null,
   "id": "25ad706b",
   "metadata": {},
   "outputs": [],
   "source": [
    "Select(driver2.find_element_by_id('kj')).select_by_value('板块（6）')  "
   ]
  },
  {
   "cell_type": "code",
   "execution_count": null,
   "id": "2e96d8a2",
   "metadata": {},
   "outputs": [],
   "source": [
    "while True:\n",
    "    element = driver2.find_element_by_xpath('//*[@id=\"kcmcGrid__ctl2_xk\"]')\n",
    "    driver2.execute_script(\"arguments[0].click();\", element)\n",
    "    driver2.find_element_by_xpath('//*[@id=\"Button1\"]').click()#提交\n",
    "    alert = driver2.switch_to.alert\n",
    "    driver2.switch_to.alert.accept()"
   ]
  },
  {
   "cell_type": "code",
   "execution_count": null,
   "id": "996f6105",
   "metadata": {
    "scrolled": true
   },
   "outputs": [],
   "source": [
    "#driver2.find_element_by_xpath('//*[@id=\"dpkcmcGrid_btnNextPage\"]').click()#下一页"
   ]
  },
  {
   "cell_type": "code",
   "execution_count": null,
   "id": "a7dd9c82",
   "metadata": {},
   "outputs": [],
   "source": [
    "#driver2.find_element_by_xpath('//*[@id=\"dpkcmcGrid_btnPrePage\"]').click()#上一页"
   ]
  },
  {
   "cell_type": "code",
   "execution_count": null,
   "id": "52a5d73b",
   "metadata": {},
   "outputs": [],
   "source": [
    "#driver2.find_element_by_xpath('//*[@id=\"kcmcGrid__ctl2_xk\"]').click()"
   ]
  },
  {
   "cell_type": "code",
   "execution_count": null,
   "id": "d0dc19e6",
   "metadata": {
    "scrolled": true
   },
   "outputs": [],
   "source": [
    "#driver2.find_element_by_xpath('//*[@id=\"Button1\"]').click()#提交"
   ]
  },
  {
   "cell_type": "code",
   "execution_count": null,
   "id": "ebfffe75",
   "metadata": {
    "scrolled": true
   },
   "outputs": [],
   "source": [
    "#driver2.find_element_by_xpath('//*[@id=\"dpkcmcGrid_btnNextPage\"]').click()#下一页"
   ]
  },
  {
   "cell_type": "code",
   "execution_count": null,
   "id": "95f3e034",
   "metadata": {},
   "outputs": [],
   "source": [
    "#driver2.switch_to.default_content()#返回主页面框架"
   ]
  },
  {
   "cell_type": "code",
   "execution_count": null,
   "id": "d7dbf361",
   "metadata": {},
   "outputs": [],
   "source": [
    "#from selenium.webdriver.common.action_chains import ActionChains\n",
    "#from selenium.webdriver.common.keys import Keys\n"
   ]
  },
  {
   "cell_type": "code",
   "execution_count": null,
   "id": "b991906d",
   "metadata": {},
   "outputs": [],
   "source": [
    "#ActionChains(driver2).send_keys(Keys.ENTER).perform()#回车键"
   ]
  },
  {
   "cell_type": "code",
   "execution_count": null,
   "id": "fa3a3b05",
   "metadata": {},
   "outputs": [],
   "source": []
  }
 ],
 "metadata": {
  "kernelspec": {
   "display_name": "Python 3 (ipykernel)",
   "language": "python",
   "name": "python3"
  },
  "language_info": {
   "codemirror_mode": {
    "name": "ipython",
    "version": 3
   },
   "file_extension": ".py",
   "mimetype": "text/x-python",
   "name": "python",
   "nbconvert_exporter": "python",
   "pygments_lexer": "ipython3",
   "version": "3.9.6"
  }
 },
 "nbformat": 4,
 "nbformat_minor": 5
}
